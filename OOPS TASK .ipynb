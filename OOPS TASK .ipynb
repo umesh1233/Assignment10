{
 "cells": [
  {
   "cell_type": "code",
   "execution_count": 4,
   "id": "94b16f60-06db-4e8a-bec2-3d763394ab0b",
   "metadata": {},
   "outputs": [],
   "source": [
    "#Q.1\n",
    "class vehicle:\n",
    "    def __init__(self, name_of_vehicle, max_speed, average_of_vehicle):\n",
    "        self.name_of_vehicle = name_of_vehicle\n",
    "        self.max_speed = max_speed\n",
    "        self.average_of_vehicle =average_of_vehicle\n",
    "\n",
    "    def vehicle_details(self):\n",
    "        print(self.name_of_vehicle,self.max_speed,self.average_of_vehicle)"
   ]
  },
  {
   "cell_type": "code",
   "execution_count": 8,
   "id": "d1799f72-15d9-4d82-a96a-8db875d5a7cc",
   "metadata": {},
   "outputs": [],
   "source": [
    "vh = vehicle(\"car\", \"80km/h\",12)"
   ]
  },
  {
   "cell_type": "code",
   "execution_count": 6,
   "id": "2abfb350-f0e9-4b13-aeaf-789080d8f1dc",
   "metadata": {},
   "outputs": [
    {
     "data": {
      "text/plain": [
       "'car'"
      ]
     },
     "execution_count": 6,
     "metadata": {},
     "output_type": "execute_result"
    }
   ],
   "source": [
    "vh.name_of_vehicle"
   ]
  },
  {
   "cell_type": "code",
   "execution_count": 9,
   "id": "7076b392-b410-4fd9-a22d-dbb520eebc47",
   "metadata": {},
   "outputs": [
    {
     "data": {
      "text/plain": [
       "'80km/h'"
      ]
     },
     "execution_count": 9,
     "metadata": {},
     "output_type": "execute_result"
    }
   ],
   "source": [
    "vh.max_speed"
   ]
  },
  {
   "cell_type": "code",
   "execution_count": 10,
   "id": "0a394605-2acf-427c-9969-91070adc7108",
   "metadata": {},
   "outputs": [
    {
     "data": {
      "text/plain": [
       "12"
      ]
     },
     "execution_count": 10,
     "metadata": {},
     "output_type": "execute_result"
    }
   ],
   "source": [
    "vh.average_of_vehicle"
   ]
  },
  {
   "cell_type": "code",
   "execution_count": 31,
   "id": "0f1d380c-c4a4-4f22-bec2-c761500e9ee2",
   "metadata": {},
   "outputs": [],
   "source": [
    "#Q.2\n",
    "class vehicle1:\n",
    "    def __init__(self, name_of_vehicle, max_speed, average_of_vehicle):\n",
    "        self.name_of_vehicle = name_of_vehicle\n",
    "        self.max_speed = max_speed\n",
    "        self.average_of_vehicle =average_of_vehicle\n",
    "    def seating_capacity(self, capacity):\n",
    "        return f\"The seating capacity of a {self.name_of_vehicle} is {capacity} passengers\""
   ]
  },
  {
   "cell_type": "code",
   "execution_count": null,
   "id": "992d7f6c-30aa-4571-a9c3-8c4294a5e620",
   "metadata": {},
   "outputs": [],
   "source": [
    "#Q.3\n",
    "When a class is derived from more than one base class it is called multiple Inheritance."
   ]
  },
  {
   "cell_type": "code",
   "execution_count": 33,
   "id": "2131c6a3-748b-4016-ab1a-a7ff7f98996f",
   "metadata": {},
   "outputs": [],
   "source": [
    "class class1:\n",
    "    \n",
    "    def test_class1(self):\n",
    "        return \"this is class 1\""
   ]
  },
  {
   "cell_type": "code",
   "execution_count": 34,
   "id": "84ae9ffe-a784-4fd7-bd48-aeca25b036dd",
   "metadata": {},
   "outputs": [],
   "source": [
    "class class2:\n",
    "    \n",
    "    def test_class2(self):\n",
    "        return \"this is class 2 \""
   ]
  },
  {
   "cell_type": "code",
   "execution_count": 35,
   "id": "728d065f-5fe7-410e-acf5-5854a230d875",
   "metadata": {},
   "outputs": [],
   "source": [
    "class class3(class1 , class2) :\n",
    "    pass"
   ]
  },
  {
   "cell_type": "code",
   "execution_count": 36,
   "id": "21046a62-bfa1-4932-9c3e-74a6a7fe7c61",
   "metadata": {},
   "outputs": [],
   "source": [
    "obj_class3 = class3()"
   ]
  },
  {
   "cell_type": "code",
   "execution_count": 37,
   "id": "6473db97-982c-4a2b-9fd7-b9596bd9331c",
   "metadata": {},
   "outputs": [
    {
     "data": {
      "text/plain": [
       "'this is class 1'"
      ]
     },
     "execution_count": 37,
     "metadata": {},
     "output_type": "execute_result"
    }
   ],
   "source": [
    "obj_class3.test_class1()"
   ]
  },
  {
   "cell_type": "code",
   "execution_count": null,
   "id": "d4d5e5d0-0c5d-49f7-8aa9-642d5881ff1d",
   "metadata": {},
   "outputs": [],
   "source": [
    "#Q.4\n",
    "Getters: These are the methods used in Object-Oriented Programming (OOPS) which helps to access the private\n",
    "attributes from a class.\n",
    "Setters: These are the methods used in OOPS feature which helps to set the value to private attributes in a class."
   ]
  },
  {
   "cell_type": "code",
   "execution_count": 38,
   "id": "ba52dd07-310f-431a-b403-5b01caba0d11",
   "metadata": {},
   "outputs": [],
   "source": [
    "class age_test:   \n",
    "    def __init__(self, age = 0):   \n",
    "         self._age = age   \n",
    "         \n",
    "    def get_age(self):   \n",
    "        return self._age   \n",
    "     \n",
    "    def set_age(self, a):   \n",
    "        self._age = a   \n",
    "    \n",
    "        kumar = age_test()   \n",
    "    \n",
    "\n",
    "        kumar.set_age(19)   \n",
    "    \n",
    "  \n",
    "        print(kumar.get_age())   \n",
    "    \n",
    "        print(kumar._age)  "
   ]
  },
  {
   "cell_type": "code",
   "execution_count": null,
   "id": "687f5c22-c8ee-4f7d-9c95-b625afacdd13",
   "metadata": {},
   "outputs": [],
   "source": [
    "#Q.5\n",
    "Method overriding is a feature of object-oriented programming languages where \n",
    "the subclass or child class can provide the program with specific characteristics \n",
    "or a specific implementation process of data provided that are already defined in the parent class or superclass."
   ]
  },
  {
   "cell_type": "code",
   "execution_count": 42,
   "id": "ef5d4114-543c-42e9-8442-5045dba338ca",
   "metadata": {},
   "outputs": [],
   "source": [
    "class Parent1():\n",
    "    def show(self):\n",
    "        print(\"Inside Parent1\")\n",
    "    class Parent2():\n",
    "        def display(self):\n",
    "            print(\"Inside Parent2\")\n",
    "    class Child(Parent1, Parent2): \n",
    "        def show(self):\n",
    "            print(\"Inside Child\")"
   ]
  },
  {
   "cell_type": "code",
   "execution_count": 44,
   "id": "0ba8fff1-0451-4a98-b703-346c6ddc7344",
   "metadata": {},
   "outputs": [
    {
     "ename": "NameError",
     "evalue": "name 'Child' is not defined",
     "output_type": "error",
     "traceback": [
      "\u001b[0;31m---------------------------------------------------------------------------\u001b[0m",
      "\u001b[0;31mNameError\u001b[0m                                 Traceback (most recent call last)",
      "Cell \u001b[0;32mIn[44], line 1\u001b[0m\n\u001b[0;32m----> 1\u001b[0m obj \u001b[38;5;241m=\u001b[39m \u001b[43mChild\u001b[49m()\n\u001b[1;32m      2\u001b[0m obj\u001b[38;5;241m.\u001b[39mshow()\n\u001b[1;32m      3\u001b[0m obj\u001b[38;5;241m.\u001b[39mdisplay()\n",
      "\u001b[0;31mNameError\u001b[0m: name 'Child' is not defined"
     ]
    }
   ],
   "source": [
    "obj = Child()\n",
    "obj.show()\n",
    "obj.display()"
   ]
  },
  {
   "cell_type": "code",
   "execution_count": null,
   "id": "07f9c382-34e9-426d-808d-6bb33aecba78",
   "metadata": {},
   "outputs": [],
   "source": []
  }
 ],
 "metadata": {
  "kernelspec": {
   "display_name": "Python 3 (ipykernel)",
   "language": "python",
   "name": "python3"
  },
  "language_info": {
   "codemirror_mode": {
    "name": "ipython",
    "version": 3
   },
   "file_extension": ".py",
   "mimetype": "text/x-python",
   "name": "python",
   "nbconvert_exporter": "python",
   "pygments_lexer": "ipython3",
   "version": "3.10.8"
  }
 },
 "nbformat": 4,
 "nbformat_minor": 5
}
